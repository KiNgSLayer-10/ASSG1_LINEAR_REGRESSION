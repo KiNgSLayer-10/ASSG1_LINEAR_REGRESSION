{
 "cells": [
  {
   "cell_type": "code",
   "execution_count": 11,
   "metadata": {
    "colab": {},
    "colab_type": "code",
    "id": "F-6bE0dYcBgA"
   },
   "outputs": [],
   "source": [
    "## Import stuff\n",
    " \n",
    "import numpy as np\n",
    "from sklearn import datasets, linear_model, metrics"
   ]
  },
  {
   "cell_type": "code",
   "execution_count": 12,
   "metadata": {
    "colab": {},
    "colab_type": "code",
    "id": "gK71NIhMcEs5"
   },
   "outputs": [],
   "source": [
    "## Load the diabetes dataset\n",
    "diabetes = datasets.load_diabetes()\n",
    "diabetes_X = diabetes.data # matrix of dimensions 442x10\n",
    " \n",
    "# Split the data into training/testing sets\n",
    "diabetes_X_train = diabetes_X[:-20]\n",
    "diabetes_X_test = diabetes_X[-20:]\n",
    " \n",
    "# Split the targets into training/testing sets\n",
    "diabetes_y_train = diabetes.target[:-20]\n",
    "diabetes_y_test = diabetes.target[-20:]"
   ]
  },
  {
   "cell_type": "code",
   "execution_count": 13,
   "metadata": {
    "colab": {},
    "colab_type": "code",
    "id": "XJTg22ybcHsl"
   },
   "outputs": [
    {
     "name": "stdout",
     "output_type": "stream",
     "text": [
      "Epoch 0: 14571.937953\n",
      "Epoch 5000: 1524.155537\n",
      "Epoch 10000: 1470.708710\n"
     ]
    }
   ],
   "source": [
    "# train\n",
    "X = diabetes_X_train\n",
    "Y = diabetes_y_train\n",
    "m=X.shape[0]\n",
    "X=np.insert(X,0,1,axis=1)\n",
    "Y=Y.reshape(m,1)\n",
    "\n",
    "# train: init\n",
    "W= np.ones((11,1))\n",
    "\n",
    " \n",
    "learning_rate = 0.1\n",
    "epochs = 10001\n",
    " \n",
    "# train: gradient descent\n",
    "for i in range(epochs):\n",
    "    # calculate predictions\n",
    "    pr=X@W\n",
    " \n",
    "    # calculate error and cost (mean squared error)\n",
    "    ...\n",
    "    \n",
    "    MSE = metrics.mean_squared_error(Y,pr)\n",
    "    MSE=MSE/2\n",
    " \n",
    "    # calculate gradients\n",
    "    ...\n",
    "    L=pr-Y\n",
    "    W1=X.T@L*learning_rate/m\n",
    "    \n",
    " \n",
    "    # update parameters\n",
    "    ...\n",
    "    W=W-W1\n",
    "    \n",
    "    # diagnostic output\n",
    "    if i % 5000 == 0: print(\"Epoch %d: %f\" % (i, MSE))"
   ]
  },
  {
   "cell_type": "code",
   "execution_count": 14,
   "metadata": {
    "colab": {},
    "colab_type": "code",
    "id": "uvSdTn-0cKJL"
   },
   "outputs": [
    {
     "name": "stdout",
     "output_type": "stream",
     "text": [
      "Coefficients: \n",
      " [[ 152.7977205 ]\n",
      " [  15.48564632]\n",
      " [-195.47458734]\n",
      " [ 480.49902215]\n",
      " [ 304.99752394]\n",
      " [ -46.66679469]\n",
      " [-104.16454396]\n",
      " [-209.38638283]\n",
      " [ 132.609792  ]\n",
      " [ 398.08168257]\n",
      " [ 125.05633134]]\n",
      "Mean squared error: 1062.50\n",
      "========================================================================================================================\n"
     ]
    }
   ],
   "source": [
    "# test\n",
    "\n",
    "x = diabetes_X_test\n",
    "y = diabetes_y_test\n",
    "x=np.insert(x,0,1,axis=1)\n",
    "y=y.reshape(x.shape[0],1)\n",
    "y1=x@W\n",
    "MSE1 = metrics.mean_squared_error(y,y1)/2\n",
    "# calculate predictions + calculate error and cost (same code as above)\n",
    "...\n",
    "print('Coefficients: \\n', W)\n",
    "print(\"Mean squared error: %.2f\" % MSE1)\n",
    "\n",
    "print(\"=\"*120)"
   ]
  },
  {
   "cell_type": "code",
   "execution_count": null,
   "metadata": {},
   "outputs": [],
   "source": []
  }
 ],
 "metadata": {
  "colab": {
   "name": "week1assignment.ipynb",
   "provenance": []
  },
  "kernelspec": {
   "display_name": "Python 3",
   "language": "python",
   "name": "python3"
  },
  "language_info": {
   "codemirror_mode": {
    "name": "ipython",
    "version": 3
   },
   "file_extension": ".py",
   "mimetype": "text/x-python",
   "name": "python",
   "nbconvert_exporter": "python",
   "pygments_lexer": "ipython3",
   "version": "3.7.6"
  }
 },
 "nbformat": 4,
 "nbformat_minor": 1
}
